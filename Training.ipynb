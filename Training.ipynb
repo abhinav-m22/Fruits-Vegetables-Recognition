{
 "cells": [
  {
   "cell_type": "code",
   "execution_count": 1,
   "metadata": {},
   "outputs": [],
   "source": [
    "import numpy as np\n",
    "import tensorflow as tf\n",
    "from keras.preprocessing.image import ImageDataGenerator\n",
    "import matplotlib.pyplot as plt"
   ]
  },
  {
   "cell_type": "code",
   "execution_count": 2,
   "metadata": {},
   "outputs": [
    {
     "name": "stdout",
     "output_type": "stream",
     "text": [
      "Found 1803 files belonging to 21 classes.\n"
     ]
    }
   ],
   "source": [
    "training_set = tf.keras.utils.image_dataset_from_directory(\n",
    "    'dataset/train',\n",
    "    labels=\"inferred\",\n",
    "    label_mode=\"categorical\",\n",
    "    class_names=None,\n",
    "    color_mode=\"rgb\",\n",
    "    batch_size=32,\n",
    "    image_size=(64, 64),\n",
    "    shuffle=True,\n",
    "    seed=None,\n",
    "    validation_split=None,\n",
    "    subset=None,\n",
    "    interpolation=\"bilinear\",\n",
    "    follow_links=False,\n",
    "    crop_to_aspect_ratio=False\n",
    ")"
   ]
  },
  {
   "cell_type": "code",
   "execution_count": 3,
   "metadata": {},
   "outputs": [
    {
     "name": "stdout",
     "output_type": "stream",
     "text": [
      "Found 205 files belonging to 21 classes.\n"
     ]
    }
   ],
   "source": [
    "test_set = tf.keras.utils.image_dataset_from_directory(\n",
    "    'dataset/validation/',\n",
    "    labels=\"inferred\",\n",
    "    label_mode=\"categorical\",\n",
    "    class_names=None,\n",
    "    color_mode=\"rgb\",\n",
    "    batch_size=32,\n",
    "    image_size=(64, 64),\n",
    "    shuffle=True,\n",
    "    seed=None,\n",
    "    validation_split=None,\n",
    "    subset=None,\n",
    "    interpolation=\"bilinear\",\n",
    "    follow_links=False,\n",
    "    crop_to_aspect_ratio=False\n",
    ")"
   ]
  },
  {
   "cell_type": "code",
   "execution_count": 4,
   "metadata": {},
   "outputs": [],
   "source": [
    "cnn = tf.keras.models.Sequential()"
   ]
  },
  {
   "cell_type": "code",
   "execution_count": 5,
   "metadata": {},
   "outputs": [],
   "source": [
    "cnn.add(tf.keras.layers.Conv2D(filters=64,kernel_size=3,activation='relu',input_shape=[64,64,3]))\n",
    "cnn.add(tf.keras.layers.MaxPool2D(pool_size=2,strides=2))"
   ]
  },
  {
   "cell_type": "code",
   "execution_count": 6,
   "metadata": {},
   "outputs": [],
   "source": [
    "cnn.add(tf.keras.layers.Conv2D(filters=64,kernel_size=3,activation='relu'))\n",
    "cnn.add(tf.keras.layers.MaxPool2D(pool_size=2,strides=2))"
   ]
  },
  {
   "cell_type": "code",
   "execution_count": 7,
   "metadata": {},
   "outputs": [],
   "source": [
    "cnn.add(tf.keras.layers.Dropout(0.5))"
   ]
  },
  {
   "cell_type": "code",
   "execution_count": 8,
   "metadata": {},
   "outputs": [],
   "source": [
    "cnn.add(tf.keras.layers.Flatten())"
   ]
  },
  {
   "cell_type": "code",
   "execution_count": 9,
   "metadata": {},
   "outputs": [],
   "source": [
    "cnn.add(tf.keras.layers.Dense(units=128,activation='relu'))"
   ]
  },
  {
   "cell_type": "code",
   "execution_count": 10,
   "metadata": {},
   "outputs": [],
   "source": [
    "cnn.add(tf.keras.layers.Dense(units=21,activation='softmax'))"
   ]
  },
  {
   "cell_type": "code",
   "execution_count": 11,
   "metadata": {},
   "outputs": [],
   "source": [
    "cnn.compile(optimizer='rmsprop',loss='categorical_crossentropy', metrics=['accuracy'])"
   ]
  },
  {
   "cell_type": "code",
   "execution_count": 12,
   "metadata": {},
   "outputs": [
    {
     "name": "stdout",
     "output_type": "stream",
     "text": [
      "Epoch 1/30\n",
      "57/57 [==============================] - 26s 400ms/step - loss: 8.3974 - accuracy: 0.0721 - val_loss: 2.8744 - val_accuracy: 0.0829\n",
      "Epoch 2/30\n",
      "57/57 [==============================] - 29s 471ms/step - loss: 4.7056 - accuracy: 0.1115 - val_loss: 2.5308 - val_accuracy: 0.3463\n",
      "Epoch 3/30\n",
      "57/57 [==============================] - 28s 452ms/step - loss: 4.0279 - accuracy: 0.1897 - val_loss: 2.1001 - val_accuracy: 0.4780\n",
      "Epoch 4/30\n",
      "57/57 [==============================] - 26s 373ms/step - loss: 4.5540 - accuracy: 0.2207 - val_loss: 3.8784 - val_accuracy: 0.2585\n",
      "Epoch 5/30\n",
      "57/57 [==============================] - 26s 406ms/step - loss: 3.0901 - accuracy: 0.3428 - val_loss: 1.7704 - val_accuracy: 0.5659\n",
      "Epoch 6/30\n",
      "57/57 [==============================] - 24s 371ms/step - loss: 4.0412 - accuracy: 0.3932 - val_loss: 1.3875 - val_accuracy: 0.6976\n",
      "Epoch 7/30\n",
      "57/57 [==============================] - 23s 365ms/step - loss: 2.7397 - accuracy: 0.5003 - val_loss: 1.0003 - val_accuracy: 0.7561\n",
      "Epoch 8/30\n",
      "57/57 [==============================] - 32s 525ms/step - loss: 2.5376 - accuracy: 0.5330 - val_loss: 0.7764 - val_accuracy: 0.8390\n",
      "Epoch 9/30\n",
      "57/57 [==============================] - 37s 542ms/step - loss: 1.5924 - accuracy: 0.6223 - val_loss: 1.2882 - val_accuracy: 0.6976\n",
      "Epoch 10/30\n",
      "57/57 [==============================] - 24s 371ms/step - loss: 1.6351 - accuracy: 0.6500 - val_loss: 0.7762 - val_accuracy: 0.8683\n",
      "Epoch 11/30\n",
      "57/57 [==============================] - 23s 361ms/step - loss: 1.2034 - accuracy: 0.7166 - val_loss: 1.3130 - val_accuracy: 0.7366\n",
      "Epoch 12/30\n",
      "57/57 [==============================] - 23s 361ms/step - loss: 1.1391 - accuracy: 0.7149 - val_loss: 2.8556 - val_accuracy: 0.6634\n",
      "Epoch 13/30\n",
      "57/57 [==============================] - 23s 368ms/step - loss: 1.1428 - accuracy: 0.7549 - val_loss: 2.9141 - val_accuracy: 0.6488\n",
      "Epoch 14/30\n",
      "57/57 [==============================] - 27s 436ms/step - loss: 1.1609 - accuracy: 0.7676 - val_loss: 0.7180 - val_accuracy: 0.9122\n",
      "Epoch 15/30\n",
      "57/57 [==============================] - 23s 363ms/step - loss: 1.1479 - accuracy: 0.7942 - val_loss: 2.4313 - val_accuracy: 0.7268\n",
      "Epoch 16/30\n",
      "57/57 [==============================] - 23s 364ms/step - loss: 0.8924 - accuracy: 0.8064 - val_loss: 0.9602 - val_accuracy: 0.8195\n",
      "Epoch 17/30\n",
      "57/57 [==============================] - 25s 389ms/step - loss: 1.0506 - accuracy: 0.8075 - val_loss: 4.0529 - val_accuracy: 0.6390\n",
      "Epoch 18/30\n",
      "57/57 [==============================] - 25s 385ms/step - loss: 0.8438 - accuracy: 0.8625 - val_loss: 0.8841 - val_accuracy: 0.9220\n",
      "Epoch 19/30\n",
      "57/57 [==============================] - 23s 366ms/step - loss: 0.8765 - accuracy: 0.8453 - val_loss: 1.0767 - val_accuracy: 0.9463\n",
      "Epoch 20/30\n",
      "57/57 [==============================] - 23s 370ms/step - loss: 0.6740 - accuracy: 0.8691 - val_loss: 5.2203 - val_accuracy: 0.7073\n",
      "Epoch 21/30\n",
      "57/57 [==============================] - 36s 591ms/step - loss: 1.0127 - accuracy: 0.8580 - val_loss: 1.0454 - val_accuracy: 0.9512\n",
      "Epoch 22/30\n",
      "57/57 [==============================] - 52s 812ms/step - loss: 0.6296 - accuracy: 0.8869 - val_loss: 0.7765 - val_accuracy: 0.9610\n",
      "Epoch 23/30\n",
      "57/57 [==============================] - 53s 823ms/step - loss: 0.7344 - accuracy: 0.8802 - val_loss: 0.9774 - val_accuracy: 0.9122\n",
      "Epoch 24/30\n",
      "57/57 [==============================] - 49s 754ms/step - loss: 0.7826 - accuracy: 0.8935 - val_loss: 0.9973 - val_accuracy: 0.9610\n",
      "Epoch 25/30\n",
      "57/57 [==============================] - 20s 319ms/step - loss: 0.5201 - accuracy: 0.9101 - val_loss: 0.8183 - val_accuracy: 0.9610\n",
      "Epoch 26/30\n",
      "57/57 [==============================] - 23s 365ms/step - loss: 0.5782 - accuracy: 0.9079 - val_loss: 4.1094 - val_accuracy: 0.7805\n",
      "Epoch 27/30\n",
      "57/57 [==============================] - 24s 369ms/step - loss: 0.5935 - accuracy: 0.9146 - val_loss: 1.1699 - val_accuracy: 0.9805\n",
      "Epoch 28/30\n",
      "57/57 [==============================] - 23s 363ms/step - loss: 0.5523 - accuracy: 0.9157 - val_loss: 1.5382 - val_accuracy: 0.9220\n",
      "Epoch 29/30\n",
      "57/57 [==============================] - 23s 365ms/step - loss: 0.6343 - accuracy: 0.9129 - val_loss: 1.4705 - val_accuracy: 0.9463\n",
      "Epoch 30/30\n",
      "57/57 [==============================] - 23s 362ms/step - loss: 0.6054 - accuracy: 0.9090 - val_loss: 1.0775 - val_accuracy: 0.9610\n"
     ]
    }
   ],
   "source": [
    "training_history = cnn.fit(x=training_set,validation_data=test_set,epochs=30)"
   ]
  },
  {
   "cell_type": "code",
   "execution_count": 13,
   "metadata": {},
   "outputs": [],
   "source": [
    "cnn.save(\"Fruits_Vegetables.h5\")"
   ]
  },
  {
   "cell_type": "code",
   "execution_count": 14,
   "metadata": {},
   "outputs": [],
   "source": [
    "import json\n",
    "with open('training_hist.json', 'w') as f:\n",
    "    json.dump(training_history.history, f)"
   ]
  },
  {
   "cell_type": "code",
   "execution_count": 15,
   "metadata": {},
   "outputs": [
    {
     "data": {
      "text/plain": [
       "{'loss': [8.397404670715332,\n",
       "  4.705646514892578,\n",
       "  4.027864456176758,\n",
       "  4.554038047790527,\n",
       "  3.0901410579681396,\n",
       "  4.041219711303711,\n",
       "  2.7396621704101562,\n",
       "  2.5376079082489014,\n",
       "  1.592437982559204,\n",
       "  1.6351491212844849,\n",
       "  1.2033692598342896,\n",
       "  1.139089822769165,\n",
       "  1.1428042650222778,\n",
       "  1.1609174013137817,\n",
       "  1.1479026079177856,\n",
       "  0.8923599720001221,\n",
       "  1.0506101846694946,\n",
       "  0.8438360691070557,\n",
       "  0.8764954209327698,\n",
       "  0.6740218997001648,\n",
       "  1.0126960277557373,\n",
       "  0.6295762658119202,\n",
       "  0.7344198822975159,\n",
       "  0.7826365232467651,\n",
       "  0.5201123952865601,\n",
       "  0.5782442092895508,\n",
       "  0.5934838652610779,\n",
       "  0.5523135662078857,\n",
       "  0.6342872381210327,\n",
       "  0.6054227948188782],\n",
       " 'accuracy': [0.07210205495357513,\n",
       "  0.11148086190223694,\n",
       "  0.18968385457992554,\n",
       "  0.22074320912361145,\n",
       "  0.3427620530128479,\n",
       "  0.3932335078716278,\n",
       "  0.5002773404121399,\n",
       "  0.5330005288124084,\n",
       "  0.622296154499054,\n",
       "  0.6500277519226074,\n",
       "  0.7165834903717041,\n",
       "  0.7149195671081543,\n",
       "  0.7548530101776123,\n",
       "  0.7676095366477966,\n",
       "  0.7942318320274353,\n",
       "  0.8064337372779846,\n",
       "  0.8075429797172546,\n",
       "  0.8624514937400818,\n",
       "  0.8452578783035278,\n",
       "  0.8691070675849915,\n",
       "  0.8580144047737122,\n",
       "  0.8868552446365356,\n",
       "  0.880199670791626,\n",
       "  0.8935108184814453,\n",
       "  0.9101497530937195,\n",
       "  0.9079312086105347,\n",
       "  0.9145867824554443,\n",
       "  0.9156960844993591,\n",
       "  0.9129229187965393,\n",
       "  0.9090405106544495],\n",
       " 'val_loss': [2.874352216720581,\n",
       "  2.5308024883270264,\n",
       "  2.100139856338501,\n",
       "  3.8784468173980713,\n",
       "  1.7704161405563354,\n",
       "  1.3874589204788208,\n",
       "  1.0003397464752197,\n",
       "  0.7764012813568115,\n",
       "  1.2881546020507812,\n",
       "  0.7761624455451965,\n",
       "  1.312976360321045,\n",
       "  2.855597972869873,\n",
       "  2.914125680923462,\n",
       "  0.718020498752594,\n",
       "  2.431302785873413,\n",
       "  0.9601919651031494,\n",
       "  4.05291748046875,\n",
       "  0.8840646743774414,\n",
       "  1.0766575336456299,\n",
       "  5.220273017883301,\n",
       "  1.0453883409500122,\n",
       "  0.7764671444892883,\n",
       "  0.977447509765625,\n",
       "  0.9972541332244873,\n",
       "  0.8182641267776489,\n",
       "  4.10939359664917,\n",
       "  1.1698856353759766,\n",
       "  1.5381742715835571,\n",
       "  1.4704868793487549,\n",
       "  1.0775299072265625],\n",
       " 'val_accuracy': [0.08292683213949203,\n",
       "  0.34634146094322205,\n",
       "  0.47804877161979675,\n",
       "  0.25853657722473145,\n",
       "  0.5658536553382874,\n",
       "  0.6975609660148621,\n",
       "  0.7560975551605225,\n",
       "  0.8390243649482727,\n",
       "  0.6975609660148621,\n",
       "  0.8682926893234253,\n",
       "  0.7365853786468506,\n",
       "  0.6634146571159363,\n",
       "  0.6487804651260376,\n",
       "  0.9121951460838318,\n",
       "  0.7268292903900146,\n",
       "  0.8195121884346008,\n",
       "  0.6390243768692017,\n",
       "  0.9219512343406677,\n",
       "  0.9463414549827576,\n",
       "  0.707317054271698,\n",
       "  0.9512194991111755,\n",
       "  0.9609755873680115,\n",
       "  0.9121951460838318,\n",
       "  0.9609755873680115,\n",
       "  0.9609755873680115,\n",
       "  0.7804877758026123,\n",
       "  0.9804878234863281,\n",
       "  0.9219512343406677,\n",
       "  0.9463414549827576,\n",
       "  0.9609755873680115]}"
      ]
     },
     "execution_count": 15,
     "metadata": {},
     "output_type": "execute_result"
    }
   ],
   "source": [
    "training_history.history"
   ]
  },
  {
   "cell_type": "code",
   "execution_count": 16,
   "metadata": {},
   "outputs": [
    {
     "name": "stdout",
     "output_type": "stream",
     "text": [
      "dict_keys(['loss', 'accuracy', 'val_loss', 'val_accuracy'])\n"
     ]
    }
   ],
   "source": [
    "print(training_history.history.keys())"
   ]
  },
  {
   "cell_type": "code",
   "execution_count": 17,
   "metadata": {},
   "outputs": [
    {
     "name": "stdout",
     "output_type": "stream",
     "text": [
      "Test set Accuracy: 96.09755873680115 %\n"
     ]
    }
   ],
   "source": [
    "print('Test set Accuracy: {} %'.format(training_history.history['val_accuracy'][-1]*100))"
   ]
  },
  {
   "cell_type": "code",
   "execution_count": 18,
   "metadata": {},
   "outputs": [
    {
     "data": {
      "image/png": "[encoded data removed]",
      "text/plain": [
       "<Figure size 640x480 with 1 Axes>"
      ]
     },
     "metadata": {},
     "output_type": "display_data"
    }
   ],
   "source": [
    "epochs=[i for i in range(1,31)]\n",
    "plt.plot(epochs,training_history.history['accuracy'],color='red')\n",
    "plt.xlabel('Epochs')\n",
    "plt.ylabel('Training Accuracy')\n",
    "plt.title(\"Visualization of Training Accuracy Result\")\n",
    "plt.show()"
   ]
  },
  {
   "cell_type": "code",
   "execution_count": 19,
   "metadata": {},
   "outputs": [
    {
     "data": {
      "image/png": "[encoded data removed]",
      "text/plain": [
       "<Figure size 640x480 with 1 Axes>"
      ]
     },
     "metadata": {},
     "output_type": "display_data"
    }
   ],
   "source": [
    "plt.plot(epochs,training_history.history['val_accuracy'],color='cyan')\n",
    "plt.xlabel('Epochs')\n",
    "plt.ylabel('Validation Accuracy')\n",
    "plt.title(\"Visualization of Validation Accuracy Result\")\n",
    "plt.show()"
   ]
  }
 ],
 "metadata": {
  "kernelspec": {
   "display_name": "Python 3",
   "language": "python",
   "name": "python3"
  },
  "language_info": {
   "codemirror_mode": {
    "name": "ipython",
    "version": 3
   },
   "file_extension": ".py",
   "mimetype": "text/x-python",
   "name": "python",
   "nbconvert_exporter": "python",
   "pygments_lexer": "ipython3",
   "version": "3.10.2 (tags/v3.10.2:a58ebcc, Jan 17 2022, 14:12:15) [MSC v.1929 64 bit (AMD64)]"
  },
  "orig_nbformat": 4,
  "vscode": {
   "interpreter": {
    "hash": "b1150ed9d4c82966bdd082bb6dad7409c54b3ee7724a703d804f0e47c2d8873e"
   }
  }
 },
 "nbformat": 4,
 "nbformat_minor": 2
}
